{
 "cells": [
  {
   "cell_type": "markdown",
   "id": "4e11c62c",
   "metadata": {},
   "source": [
    "# Análise RFM"
   ]
  },
  {
   "cell_type": "code",
   "execution_count": 1,
   "id": "91e83ace",
   "metadata": {},
   "outputs": [
    {
     "name": "stdout",
     "output_type": "stream",
     "text": [
      "Clientes gastaram bastante, porém e estão há mais tempo sem comprar:\n",
      "              Cliente  Recencia  Frequencia  Monetario\n",
      "480       Luke Foster       163          12  2913.8393\n",
      "691        Sean Wendt       386          11  2372.2612\n",
      "95      Bobby Odegard       231          15  1786.1871\n",
      "484        Lynn Smith       181          15  1604.3839\n",
      "629   Ricardo Emerson       132           7  1207.0037\n",
      "528   Michael Kennedy       135           7   939.9891\n",
      "191        Dan Lawera       135          12   832.7607\n",
      "686  Scott Williamson       181           5   793.8304\n",
      "496      Mark Cousins       136          28   778.5547\n",
      "438   Kelly Collister       875           3   770.1132\n"
     ]
    }
   ],
   "source": [
    "import datetime as dt\n",
    "import pandas as pd\n",
    "\n",
    "file_path = 'Base de Dados R. Amaral Office.xlsx'\n",
    "df_R_amaral = pd.read_excel(file_path, dtype={'data_pedido': float})\n",
    "\n",
    "df_R_amaral['data_pedido'] = pd.to_datetime('1899-12-30') + pd.to_timedelta(df_R_amaral['data_pedido'], 'D')\n",
    "\n",
    "data_atual = dt.datetime(2016, 12, 31) #dia do ultimo mes do ano que a base de dados chega   \n",
    "\n",
    "rfm = df_R_amaral.groupby('nome_cliente').agg({\n",
    "    'data_pedido': lambda x: (data_atual - x.max()).days,\n",
    "    'id_pedido': 'count',\n",
    "    'lucro': 'sum'\n",
    "}).reset_index()\n",
    "\n",
    "rfm.columns = ['Cliente', 'Recencia', 'Frequencia', 'Monetario']\n",
    "\n",
    "# Definimos que pegaríamos o top 20% de cada quesito para analisarmos\n",
    "limiar_monetario = rfm['Monetario'].quantile(0.8)\n",
    "limiar_recencia = rfm['Recencia'].quantile(0.8)\n",
    "\n",
    "clientes_prioritarios = rfm[(rfm['Monetario'] >= limiar_monetario) & (rfm['Recencia'] > 120) ] # Filtrando quem mais gastou e está a 4 meses ou mais sem comprar\n",
    "\n",
    "clientes_prioritarios = clientes_prioritarios.sort_values(by=['Monetario', 'Recencia'], ascending=[False, False])\n",
    "\n",
    "print(\"Clientes gastaram bastante, porém e estão há mais tempo sem comprar:\")\n",
    "print(clientes_prioritarios.head(10)) #escolhemos mostrar apenas o top 10 para avaliar se seria bom um atendimento personalizado para entender o que fez com que eles parassem de comprar"
   ]
  },
  {
   "cell_type": "code",
   "execution_count": null,
   "id": "7a455ba6",
   "metadata": {},
   "outputs": [],
   "source": []
  }
 ],
 "metadata": {
  "kernelspec": {
   "display_name": "base",
   "language": "python",
   "name": "python3"
  },
  "language_info": {
   "codemirror_mode": {
    "name": "ipython",
    "version": 3
   },
   "file_extension": ".py",
   "mimetype": "text/x-python",
   "name": "python",
   "nbconvert_exporter": "python",
   "pygments_lexer": "ipython3",
   "version": "3.12.7"
  }
 },
 "nbformat": 4,
 "nbformat_minor": 5
}
