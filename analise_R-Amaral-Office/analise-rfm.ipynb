{
 "cells": [
  {
   "cell_type": "code",
   "execution_count": null,
   "id": "f6cee492",
   "metadata": {},
   "outputs": [],
   "source": [
    "import datetime as dt\n",
    "import pandas as pd"
   ]
  },
  {
   "cell_type": "code",
   "execution_count": null,
   "id": "55a42355",
   "metadata": {},
   "outputs": [],
   "source": [
    "file_path = 'Base de Dados R. Amaral Office.xlsx'\n",
    "df_R_amaral = pd.read_excel(file_path, dtype={'data_pedido': float})"
   ]
  },
  {
   "cell_type": "code",
   "execution_count": null,
   "id": "1bea8758",
   "metadata": {},
   "outputs": [],
   "source": [
    "df_R_amaral['data_pedido'] = pd.to_datetime('1899-12-30') + pd.to_timedelta(df_R_amaral['data_pedido'], 'D')\n",
    "\n",
    "data_atual = dt.datetime(2016, 12, 31) #dia do ultimo mes do ano que a base de dados chega   \n",
    "\n",
    "rfm = df_R_amaral.groupby('nome_cliente').agg({\n",
    "    'data_pedido': lambda x: (data_atual - x.max()).days,\n",
    "    'id_pedido': 'count',\n",
    "    'lucro': 'sum'\n",
    "}).reset_index()\n",
    "\n",
    "rfm.columns = ['Cliente', 'Recencia', 'Frequencia', 'Monetario']\n",
    "\n",
    "# Definimos que pegaríamos o top 20% de cada quesito para analisarmos\n",
    "limiar_monetario = rfm['Monetario'].quantile(0.8)\n",
    "limiar_recencia = rfm['Recencia'].quantile(0.8)\n",
    "\n",
    "clientes_prioritarios = rfm[(rfm['Monetario'] >= limiar_monetario) & (rfm['Recencia'] > 120) ] # Filtrando quem mais gastou e está a 4 meses ou mais sem comprar\n",
    "\n",
    "clientes_prioritarios = clientes_prioritarios.sort_values(by=['Monetario', 'Recencia'], ascending=[False, False])\n",
    "\n",
    "print(\"Clientes gastaram bastante, porém e estão há mais tempo sem comprar:\")\n",
    "print(clientes_prioritarios.head(10)) #escolhemos mostrar apenas o top 10 para avaliar se seria bom um atendimento personalizado para entender o que fez com que eles parassem de comprar"
   ]
  }
 ],
 "metadata": {
  "kernelspec": {
   "display_name": "base",
   "language": "python",
   "name": "python3"
  },
  "language_info": {
   "name": "python",
   "version": "3.12.7"
  }
 },
 "nbformat": 4,
 "nbformat_minor": 5
}
